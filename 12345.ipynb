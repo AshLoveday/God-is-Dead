{
 "cells": [
  {
   "cell_type": "code",
   "execution_count": 39,
   "id": "eaffe4c9-504c-4f5d-a13f-8af439219977",
   "metadata": {
    "tags": []
   },
   "outputs": [
    {
     "name": "stdin",
     "output_type": "stream",
     "text": [
      "First Name:  Ashley\n",
      "Last Name:  Loveday\n",
      "Enter ID:  A123456\n"
     ]
    },
    {
     "name": "stdout",
     "output_type": "stream",
     "text": [
      "Invalid ID\n"
     ]
    },
    {
     "name": "stdin",
     "output_type": "stream",
     "text": [
      "Enter ID:  123456\n"
     ]
    },
    {
     "name": "stdout",
     "output_type": "stream",
     "text": [
      "Invalid ID\n"
     ]
    },
    {
     "name": "stdin",
     "output_type": "stream",
     "text": [
      "Enter ID:  A01234\n"
     ]
    },
    {
     "name": "stdout",
     "output_type": "stream",
     "text": [
      "Invalid ID\n"
     ]
    },
    {
     "name": "stdin",
     "output_type": "stream",
     "text": [
      "Enter ID:  A1234567\n"
     ]
    },
    {
     "name": "stdout",
     "output_type": "stream",
     "text": [
      "Invalid ID\n"
     ]
    }
   ],
   "source": [
    "# To validate an ID\n",
    "def validateID(sID):\n",
    "    #String of 1 through 9, for testing\n",
    "    through19 = \"123456789\"\n",
    "    #If the ID starts with A...\n",
    "    if sID.startswith(\"A\"):\n",
    "        #Is 6 characters long...\n",
    "        if len(sID) == 6:\n",
    "            #And the other 5 characters (1st one is the A) are a number 1 through 9...\n",
    "            digits = sID[1:]\n",
    "            for i in digits:\n",
    "                if i not in through19:\n",
    "                    return False\n",
    "            #Then it is a valid ID\n",
    "            return True\n",
    "    return False\n",
    "\n",
    "#This makes a file for the end.\n",
    "def makeFile(sID, firstName, lastName, score, elapsedTime):\n",
    "    filename = sID + \"_\" + firstName + \"_\" + lastName + \".txt\"\n",
    "    with open(filename, \"w\") as file:\n",
    "        file.write(sID + \" \" + firstName + \" \" + lastName + \"\\n\")\n",
    "        file.write(score + \"\\n\")\n",
    "        file.write(elapsedTime + \"\\n\")\n",
    "        #WIP Need to write the questions and answers\n",
    "\n",
    "def main():\n",
    "    #Get First and Last Name\n",
    "    firstName = input(\"First Name: \")\n",
    "    lastName = input(\"Last Name: \")\n",
    "    \n",
    "    #Only allows 3 tries to input a valid ID\n",
    "    incorrect = 0\n",
    "    while (incorrect < 3):\n",
    "        studentID = input(\"Enter ID: \")\n",
    "        if validateID(studentID):\n",
    "            break\n",
    "        else:\n",
    "            print(\"Invalid ID\")\n",
    "            incorrect += 1\n",
    "    if incorrect == 3:\n",
    "        break\n",
    "            \n",
    "if __name__ == \"__main__\":\n",
    "    main()\n",
    "\n",
    "\n",
    "\n",
    "#print(validateID(\"A12345\"))\n",
    "#print(validateID(\"A92154\"))\n",
    "#print(validateID(\"A23455\"))\n",
    "\n",
    "#print(validateID(\"a12345\"))\n",
    "#print(validateID(\"123456\"))\n",
    "#print(validateID(\"A02456\"))\n",
    "#print(validateID(\"A123456\"))\n",
    "\n"
   ]
  },
  {
   "cell_type": "code",
   "execution_count": null,
   "id": "d15cdd47-3ecd-432d-bb80-f4fdddf5e0cb",
   "metadata": {},
   "outputs": [],
   "source": []
  }
 ],
 "metadata": {
  "kernelspec": {
   "display_name": "Python 3 (ipykernel)",
   "language": "python",
   "name": "python3"
  },
  "language_info": {
   "codemirror_mode": {
    "name": "ipython",
    "version": 3
   },
   "file_extension": ".py",
   "mimetype": "text/x-python",
   "name": "python",
   "nbconvert_exporter": "python",
   "pygments_lexer": "ipython3",
   "version": "3.11.5"
  }
 },
 "nbformat": 4,
 "nbformat_minor": 5
}
